{
 "cells": [
  {
   "cell_type": "markdown",
   "metadata": {},
   "source": [
    "# Série de taylor exponencial\n",
    "\n",
    "## Função\n",
    "\n",
    "Escolhemos a função exponencial $f(x) = e^x$ para apresentar uma simulação de cálculos e funções complexas que podem ser\n",
    "processadas.\n",
    "\n",
    "## To-Do (Criar Issues):\n",
    "- Cálculo de Taylor para a função\n",
    "  - Derivadas\n",
    "  - Valor de N da série de Taylor\n",
    "  - Código da função\n",
    "- Aproximações e propriedades da função\n",
    "- Tabela de valores fixos"
   ]
  },
  {
   "cell_type": "code",
   "execution_count": 1,
   "metadata": {},
   "outputs": [
    {
     "name": "stdout",
     "output_type": "stream",
     "text": [
      "Hello, World\n"
     ]
    }
   ],
   "source": [
    "# "
   ]
  }
 ],
 "metadata": {
  "kernelspec": {
   "display_name": "Python 3",
   "language": "python",
   "name": "python3"
  },
  "language_info": {
   "codemirror_mode": {
    "name": "ipython",
    "version": 3
   },
   "file_extension": ".py",
   "mimetype": "text/x-python",
   "name": "python",
   "nbconvert_exporter": "python",
   "pygments_lexer": "ipython3",
   "version": "3.10.12"
  }
 },
 "nbformat": 4,
 "nbformat_minor": 2
}
