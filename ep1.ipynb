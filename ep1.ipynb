{
 "cells": [
  {
   "cell_type": "markdown",
   "metadata": {},
   "source": [
    "# EP 1 - Cálculos Complexos com Séries de Taylor\n",
    "\n",
    "Este Exercício-Programa tem o objetivo de fazer uma simulação em Python para cálculos de funções complexas. Sabemos que o computador não implementa no seu processador algumas funções como logaritmo, secante, entre outros. Assim, precisamos fazer um algoritmo para estes cálculos.\n",
    "\n",
    "Escolha a série de Taylor em:  https://spsenacbr-my.sharepoint.com/:x:/g/personal/celso_vcrivelaro_sp_senac_br/EcCo9hFnkCVHtVOOBLAwHZIB3Y6rdRJhkzgmBuiw29797w?e=aYAM7R. Coloque o nome do grupo\n",
    "\n",
    "Assista o vídeo:\n",
    "\n",
    "https://www.youtube.com/watch?v=KAkdA-iwIus\n",
    "\n",
    "Com a função escolhida, faça:\n",
    "\n",
    "- Série de Taylor\n",
    "- Aproximações e propriedades\n",
    "- Tabela de valores mais usados\n",
    "\n",
    "## A Entrega\n",
    "\n",
    "### Código fonte (7.0)\n",
    "\n",
    "Cálculo de Taylor para a função (4.0)\n",
    "\n",
    "- Quais são as derivadas?\n",
    "- Qual o valor de N da série de Taylor que será o seu limite? Por quê?\n",
    "- Código da função otimizada\n",
    "\n",
    "Aproximações e propriedades da função (1.5)\n",
    "\n",
    "Tabela de valores fixos (1.5)\n",
    "\n",
    "Código: Ou no Github ou no Google Colab compartilhado.\n",
    "\n",
    "### Apresentação (3.0)\n",
    "\n",
    "A apresentação do trabalho deve ser feita em um vídeo no youtube com no máximo 15 minutos. Entrega obrigatório\n",
    "\n",
    "Não precisa ter todos os membros do grupo.\n",
    "\n",
    "Não precisa aparecer a face dos alunos.\n",
    "\n",
    "Utilize imagens e slides par auxiliar na explicação\n",
    "\n",
    "Utilize o código e gráficos nas explicações."
   ]
  },
  {
   "cell_type": "code",
   "execution_count": null,
   "metadata": {},
   "outputs": [],
   "source": []
  }
 ],
 "metadata": {
  "language_info": {
   "name": "python"
  }
 },
 "nbformat": 4,
 "nbformat_minor": 2
}
