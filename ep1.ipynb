{
 "cells": [
  {
   "cell_type": "markdown",
   "metadata": {},
   "source": [
    "# Série de Taylor exponencial\n",
    "\n",
    "## Função\n",
    "\n",
    "Escolhemos a função exponencial:\n",
    "\n",
    "$f(x) = e^x$\n",
    "\n",
    "para apresentar uma simulação de cálculos e funções complexas que podem ser processadas.\n",
    "\n",
    "### Série de taylor para função exponencial:\n",
    "\n",
    "${\\displaystyle \\mathrm {e} ^{x}=\\sum _{n=0}^{\\infty }{\\frac {x^{n}}{n!}}\\quad}$ para todo $x$\n",
    "\n",
    "Determinaremos um valor limite de N com base em sua precisão e margem de erro.\n",
    "\n",
    "## To-Do (Criar Issues):\n",
    "- Cálculo de Taylor para a função\n",
    "  - Derivadas\n",
    "  - Valor de N da série de Taylor\n",
    "  - Código da função\n",
    "- Aproximações e propriedades da função\n",
    "- Tabela de valores fixos"
   ]
  },
  {
   "cell_type": "code",
   "execution_count": 1,
   "metadata": {},
   "outputs": [],
   "source": [
    "import matplotlib.pyplot as plt\n",
    "import numpy as np"
   ]
  },
  {
   "cell_type": "markdown",
   "metadata": {},
   "source": [
    "# Referências\n",
    "\n",
    "- [Séries de Taylor - Wikipédia](https://pt.wikipedia.org/wiki/S%C3%A9rie_de_Taylor)"
   ]
  }
 ],
 "metadata": {
  "kernelspec": {
   "display_name": "Python 3",
   "language": "python",
   "name": "python3"
  },
  "language_info": {
   "codemirror_mode": {
    "name": "ipython",
    "version": 3
   },
   "file_extension": ".py",
   "mimetype": "text/x-python",
   "name": "python",
   "nbconvert_exporter": "python",
   "pygments_lexer": "ipython3",
   "version": "3.10.12"
  }
 },
 "nbformat": 4,
 "nbformat_minor": 2
}
